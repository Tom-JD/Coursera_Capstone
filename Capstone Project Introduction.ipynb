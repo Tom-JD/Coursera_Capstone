{
 "cells": [
  {
   "cell_type": "markdown",
   "id": "9463f002",
   "metadata": {},
   "source": [
    "## Introduction/Business Problem (part 1)"
   ]
  },
  {
   "cell_type": "markdown",
   "id": "a99ebc84",
   "metadata": {},
   "source": [
    "I have chosen a hypothetical situation\n",
    "\n",
    "A client is looking to expand their fitness centres, previously based exclusively on the west coast, into New York City. They are looking for which areas to set their fitness centres up in, and are able to adapt the type of gyms they deploy (e.g. could deploy a standard gym in one neighbourhood, a climbing gym in another etc.). They would like data driven recommendations on good areas to deploy their new centres, for a successful, smooth expansion."
   ]
  },
  {
   "cell_type": "markdown",
   "id": "e25ad4a9",
   "metadata": {},
   "source": [
    "## Data (part 2)\n"
   ]
  },
  {
   "cell_type": "markdown",
   "id": "e9ecf037",
   "metadata": {},
   "source": [
    "The first data I will be collecting of the various neighbourhoods is the types of venues each has. This will allow me to deploy k-means clustering to classify the neighbourhoods into groups, and identify each group as to how many gyms each has on average.\n",
    "I will then take a look at neighbourhoods' populations, and the people per gym ratio, to determine where there is a potential gap in the market. Finally, I will look at projected population growths across the boroughs to determine where there is possibility for market growth."
   ]
  }
 ],
 "metadata": {
  "kernelspec": {
   "display_name": "Python 3 (ipykernel)",
   "language": "python",
   "name": "python3"
  },
  "language_info": {
   "codemirror_mode": {
    "name": "ipython",
    "version": 3
   },
   "file_extension": ".py",
   "mimetype": "text/x-python",
   "name": "python",
   "nbconvert_exporter": "python",
   "pygments_lexer": "ipython3",
   "version": "3.9.6"
  }
 },
 "nbformat": 4,
 "nbformat_minor": 5
}
